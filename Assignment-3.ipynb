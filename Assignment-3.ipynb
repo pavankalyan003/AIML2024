{
  "nbformat": 4,
  "nbformat_minor": 0,
  "metadata": {
    "colab": {
      "provenance": []
    },
    "kernelspec": {
      "name": "python3",
      "display_name": "Python 3"
    },
    "language_info": {
      "name": "python"
    }
  },
  "cells": [
    {
      "cell_type": "markdown",
      "source": [
        "Part-2 Implement the game strategy Algorithm"
      ],
      "metadata": {
        "id": "j5U7fUatSicc"
      }
    },
    {
      "cell_type": "code",
      "execution_count": 36,
      "metadata": {
        "colab": {
          "base_uri": "https://localhost:8080/"
        },
        "id": "BdHxaVl3Sb8U",
        "outputId": "7d7900a4-e341-4edd-a625-c48d2b5b4887"
      },
      "outputs": [
        {
          "output_type": "stream",
          "name": "stdout",
          "text": [
            "Optimum (max) Value: 8\n",
            "Optimum Move: 5\n"
          ]
        }
      ],
      "source": [
        "import math\n",
        "\n",
        "def generate_child_nodes(node):\n",
        "    # Generate child nodes for the given node\n",
        "    if node == 6:\n",
        "        return [5, 4]\n",
        "    elif node == 5:\n",
        "        return [8, 10, 14]\n",
        "    elif node == 4:\n",
        "        return [7, 9, 13]\n",
        "    else:\n",
        "        return []\n",
        "\n",
        "def minimax(node, depth, maximizing_player):\n",
        "    # Base case: Check if the depth limit is reached or the node is a terminal node\n",
        "    if depth == 0 or not generate_child_nodes(node):\n",
        "        return evaluate(node), None  # Return both the score and the move\n",
        "\n",
        "    if maximizing_player:\n",
        "        max_eval = -math.inf\n",
        "        best_move = None\n",
        "        for child in generate_child_nodes(node):\n",
        "            eval_score, _ = minimax(child, depth - 1, False)\n",
        "            if eval_score > max_eval:\n",
        "                max_eval = eval_score\n",
        "                best_move = child\n",
        "        return max_eval, best_move\n",
        "    else:\n",
        "        min_eval = math.inf\n",
        "        best_move = None\n",
        "        for child in generate_child_nodes(node):\n",
        "            eval_score, _ = minimax(child, depth - 1, True)\n",
        "            if eval_score < min_eval:\n",
        "                min_eval = eval_score\n",
        "                best_move = child\n",
        "        return min_eval, best_move,\n",
        "\n",
        "def evaluate(node):\n",
        "    # Placeholder for the evaluation function\n",
        "    # You need to implement your own logic for evaluating a node\n",
        "    # For simplicity, return the node value as the evaluation score\n",
        "    return node\n",
        "\n",
        "# Example usage:\n",
        "initial_state = 6\n",
        "depth_limit = 2  # Set the depth limit for the search\n",
        "\n",
        "best_score, best_move = minimax(initial_state, depth_limit, True)\n",
        "print(\"Optimum (max) Value:\", best_score)\n",
        "print(\"Optimum Move:\", best_move)\n",
        "\n"
      ]
    },
    {
      "cell_type": "markdown",
      "source": [
        "2. Implement the Alpha-Beta Search Algorithm"
      ],
      "metadata": {
        "id": "3DMitEQ0d591"
      }
    },
    {
      "cell_type": "code",
      "source": [
        "\n",
        "def minimax(state, alpha, beta, is_max):\n",
        "    if state == 6:\n",
        "        # Initial state, assuming it's a max node\n",
        "        child_nodes = [5, 4]\n",
        "    elif state == 5:\n",
        "        child_nodes = [8, 10, 14]\n",
        "    elif state == 4:\n",
        "        child_nodes = [7, 9, 13]\n",
        "    else:\n",
        "        # Terminal state or leaf node, return the utility value\n",
        "        return state\n",
        "\n",
        "    if is_max:\n",
        "        value = float('-inf')\n",
        "        for child in child_nodes:\n",
        "            value = max(value, minimax(child, alpha, beta, False))\n",
        "            alpha = max(alpha, value)\n",
        "            if alpha >= beta:\n",
        "                break  # Beta cut-off\n",
        "        return value\n",
        "    else:\n",
        "        value = float('inf')\n",
        "        for child in child_nodes:\n",
        "            value = min(value, minimax(child, alpha, beta, True))\n",
        "            beta = min(beta, value)\n",
        "            if beta <= alpha:\n",
        "                break  # Alpha cut-off\n",
        "        return value\n",
        "\n",
        "alpha = float('-inf')\n",
        "beta = float('inf')\n",
        "optimum_move = None\n",
        "for move in [5, 4]:\n",
        "    move_value = minimax(move, alpha, beta, False)\n",
        "    if move_value > alpha:\n",
        "        alpha = move_value\n",
        "        optimum_move = move\n",
        "print(\"Optimal value for the initial state (6) :\", result)\n",
        "print(\"alpha value:\", result)\n",
        "print(\"beta value:\", result)\n",
        "print(\"minimum value:\", result)\n",
        "print(\"Optimum move:\", optimum_move)\n"
      ],
      "metadata": {
        "colab": {
          "base_uri": "https://localhost:8080/"
        },
        "id": "-E1nAvZoe3nx",
        "outputId": "4c62a108-a0a6-4e63-c712-d68e6c0ff588"
      },
      "execution_count": 34,
      "outputs": [
        {
          "output_type": "stream",
          "name": "stdout",
          "text": [
            "Optimal value for the initial state (6) : 8\n",
            "alpha value: 8\n",
            "beta value: 8\n",
            "minimum value: 8\n",
            "Optimum move: 5\n"
          ]
        }
      ]
    }
  ]
}